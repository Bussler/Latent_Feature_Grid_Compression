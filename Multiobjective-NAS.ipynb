{
 "cells": [
  {
   "cell_type": "code",
   "execution_count": null,
   "id": "5c3f748b",
   "metadata": {},
   "outputs": [],
   "source": [
    "from Multi_Objective_NAS import create_experiment_scheduler\n",
    "\n",
    "config = 'experiment-config-files/mhd_p_HyperparamSearch.txt'\n",
    "\n",
    "experiment, scheduler = create_experiment_scheduler(config, 'NeurcompTraining.py', 'mhd_p_', 'NAS_Experiments/MHD_P_Search', 50)"
   ]
  },
  {
   "cell_type": "code",
   "execution_count": null,
   "id": "e183a7c5",
   "metadata": {},
   "outputs": [],
   "source": [
    "scheduler.run_all_trials()"
   ]
  },
  {
   "cell_type": "code",
   "execution_count": null,
   "id": "925fa8af",
   "metadata": {},
   "outputs": [],
   "source": [
    "from ax.service.utils.report_utils import exp_to_df\n",
    "\n",
    "df = exp_to_df(experiment)\n",
    "df.head(50)"
   ]
  },
  {
   "cell_type": "code",
   "execution_count": null,
   "id": "368eb147",
   "metadata": {},
   "outputs": [],
   "source": [
    "from ax.service.utils.report_utils import _pareto_frontier_scatter_2d_plotly\n",
    "\n",
    "_pareto_frontier_scatter_2d_plotly(experiment)"
   ]
  },
  {
   "cell_type": "code",
   "execution_count": null,
   "id": "bcff3e27",
   "metadata": {},
   "outputs": [],
   "source": [
    "from ax.modelbridge.cross_validation import compute_diagnostics, cross_validate\n",
    "from ax.plot.diagnostic import interact_cross_validation_plotly\n",
    "from ax.utils.notebook.plotting import init_notebook_plotting, render\n",
    "\n",
    "cv = cross_validate(model=scheduler.generation_strategy.model)  # The surrogate model is stored on the GenerationStrategy\n",
    "compute_diagnostics(cv)\n",
    "\n",
    "interact_cross_validation_plotly(cv)"
   ]
  },
  {
   "cell_type": "code",
   "execution_count": null,
   "id": "6783bafd",
   "metadata": {},
   "outputs": [],
   "source": [
    "from ax.plot.contour import interact_contour_plotly\n",
    "\n",
    "interact_contour_plotly(model=scheduler.generation_strategy.model, metric_name=\"compression_ratio\")"
   ]
  },
  {
   "cell_type": "code",
   "execution_count": null,
   "id": "c83dec09",
   "metadata": {},
   "outputs": [],
   "source": [
    "interact_contour_plotly(model=scheduler.generation_strategy.model, metric_name=\"psnr\")"
   ]
  }
 ],
 "metadata": {
  "kernelspec": {
   "display_name": "Python 3 (ipykernel)",
   "language": "python",
   "name": "python3"
  },
  "language_info": {
   "codemirror_mode": {
    "name": "ipython",
    "version": 3
   },
   "file_extension": ".py",
   "mimetype": "text/x-python",
   "name": "python",
   "nbconvert_exporter": "python",
   "pygments_lexer": "ipython3",
   "version": "3.8.12"
  }
 },
 "nbformat": 4,
 "nbformat_minor": 5
}
